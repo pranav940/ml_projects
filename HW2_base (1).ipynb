{
 "cells": [
  {
   "cell_type": "markdown",
   "metadata": {},
   "source": [
    "# Homework 2 - Logistic Regression\n",
    "## CSCI 5622 - Spring 2019\n",
    "***\n",
    "**Name**: $<$insert name here$>$ \n",
    "***\n",
    "\n",
    "This assignment is due on Canvas by **11.59 PM on Tuesday, February 12th**. Submit only this Jupyter notebook to Canvas.  Do not compress it using tar, rar, zip, etc. Your solutions to analysis questions should be done in Markdown directly below the associated question.  Remember that you are encouraged to discuss the problems with your classmates and instructors, but **you must write all code and solutions on your own**, and list any people or sources consulted."
   ]
  },
  {
   "cell_type": "markdown",
   "metadata": {},
   "source": [
    "## Overview \n",
    "***\n",
    "\n",
    "Your task for this homework is to build a logistic regression model that implements stochastic gradient ascent. To start, you'll apply it to the task of determining whether a number is 8 or 9\n",
    "\n",
    "We start by importing and plotting the given data"
   ]
  },
  {
   "cell_type": "code",
   "execution_count": 10,
   "metadata": {},
   "outputs": [],
   "source": [
    "import numpy as np\n",
    "import matplotlib.pylab as plt\n",
    "%matplotlib inline "
   ]
  },
  {
   "cell_type": "markdown",
   "metadata": {},
   "source": [
    "###### [ 50 points] Problem 1: Implementing the Logistic Regression Classifier\n",
    "***"
   ]
  },
  {
   "cell_type": "code",
   "execution_count": 11,
   "metadata": {},
   "outputs": [],
   "source": [
    "import matplotlib.pylab as plt\n",
    "%matplotlib inline\n",
    "import pickle, gzip       \n",
    "import numpy as np\n",
    "\n",
    "class Numbers:\n",
    "    \"\"\"\n",
    "    Class to store MNIST data for images of 9 and 8 only\n",
    "    \"\"\" \n",
    "    def __init__(self, location):\n",
    "        # You shouldn't have to modify this class, but you can if you'd like\n",
    "        # Load the dataset\n",
    "        with gzip.open(location, 'rb') as f:\n",
    "            train_set, valid_set, test_set = pickle.load(f)\n",
    " \n",
    "        self.train_x, self.train_y = train_set\n",
    "        train_indices = np.where(self.train_y > 7)\n",
    "        self.train_x, self.train_y = self.train_x[train_indices], self.train_y[train_indices]\n",
    "        self.train_y = self.train_y - 8\n",
    " \n",
    "        self.valid_x, self.valid_y = valid_set\n",
    "        valid_indices = np.where(self.valid_y > 7)\n",
    "        self.valid_x, self.valid_y = self.valid_x[valid_indices], self.valid_y[valid_indices]\n",
    "        self.valid_y = self.valid_y - 8"
   ]
  },
  {
   "cell_type": "markdown",
   "metadata": {},
   "source": [
    "In this homework you'll implement a Logistic Regression classifier to take drawings of either an eight or a nine and output the corresponding label.\n",
    "1.1 - Finish the `calculate_score` function to return the output of applying the dot product of the weights with the input parameter\n",
    "\n",
    "1.2 - Finish the `sigmoid` function to return the output of applying the sigmoid function to the calculated score\n",
    "\n",
    "1.3 - Finish the `compute_gradient` function to return the derivate of the cost w.r.t. the weights\n",
    "\n",
    "1.4 - Finish the `sgd_update` function so that it performs stochastic gradient descent on the single training example and updates the weight vector correspondingly\n",
    "\n",
    "1.5 - Finish the `mini_batch_update` function so that it performs mini-batch gradient descent on the batches of the training data set example and updates the weight vector correspondingly"
   ]
  },
  {
   "cell_type": "code",
   "execution_count": 12,
   "metadata": {},
   "outputs": [],
   "source": [
    "from collections import defaultdict\n",
    "class LogReg:\n",
    "    \n",
    "    def __init__(self, X, y, eta = 0.1):\n",
    "        \"\"\"\n",
    "        Create a logistic regression classifier\n",
    "        :param num_features: The number of features (including bias)\n",
    "        :param eta: Learning rate (the default is a constant value)\n",
    "        :method: This should be the name of the method (sgd_update or mini_batch_descent)\n",
    "        :batch_size: optional argument that is needed only in the case of mini_batch_descent\n",
    "        \"\"\"\n",
    "        self.X = X\n",
    "        self.y = y\n",
    "        self.w = np.zeros(X.shape[1]) # can remove from here and ask to be defined in the function\n",
    "        self.eta = eta\n",
    "        \n",
    "    def calculate_score(self, x):\n",
    "        \"\"\"\n",
    "        :param x: This can be a single training example or it could be n training examples\n",
    "        :return score: Calculate the score that you will plug into the logistic function\n",
    "        \"\"\"\n",
    "        # TODO: Compute the score to be fed to the sigmoid function\n",
    "    \n",
    "    def sigmoid(self, score):\n",
    "        \"\"\"\n",
    "        :param score: Either a real valued number or a vector to convert into a number between 0 and 1\n",
    "        :return sigmoid: Calcuate the output of applying the sigmoid function to the score. This could be a single\n",
    "        value or a vector depending on the input\n",
    "        \"\"\"\n",
    "        # TODO: Complete this function to return the output of applying the sigmoid function to the score\n",
    "    \n",
    "    def compute_gradient(self, x, h, y):\n",
    "        \"\"\"\n",
    "        :param x: Feature vector\n",
    "        :param h: predicted class label\n",
    "        :param y: real class label\n",
    "        :return gradient: Return the derivate of the cost w.r.t to the weights\n",
    "        \"\"\"\n",
    "        # TODO: Finish this function to compute the gradient\n",
    "     \n",
    "    def sgd_update(self):\n",
    "        \"\"\"\n",
    "        Compute a stochastic gradient update over the entire dataset to improve the log likelihood.\n",
    "        :param x_i: The features of the example to take the gradient with respect to\n",
    "        :param y: The target output of the example to take the gradient with respect to\n",
    "        :return: Return the new value of the regression coefficients\n",
    "        \"\"\" \n",
    "        # TODO: Finish this function to do a stochastic gradient descent update over the entire dataset\n",
    "        # and return the updated weight vector\n",
    "    \n",
    "    def mini_batch_update(self, batch_size):\n",
    "        \"\"\"\n",
    "        One iteration of the mini-batch update over the entire dataset (one sweep of the dataset).\n",
    "        :param X: NumPy array of features (size : no of examples X features)\n",
    "        :param y: Numpy array of class labels (size : no of examples X 1)\n",
    "        :param batch_size: size of the batch for gradient update\n",
    "        :returns w: Coefficients of the classifier (after updating)\n",
    "        \"\"\"\n",
    "        # TODO: Performing mini-batch training follows the same steps as in stochastic gradient descent,\n",
    "        # the only major difference is that we’ll use batches of training examples instead of one. \n",
    "        # Here we decide a batch size, which is the number of examples that will be fed into the \n",
    "        # computational graph at once.\n",
    "\n",
    "    \n",
    "    def progress(self, test_x, test_y, update_method, *batch_size):\n",
    "        \"\"\"\n",
    "        Given a set of examples, computes the probability and accuracy\n",
    "        :param test_x: The features of the test dataset to score\n",
    "        :param test_y: The features of the test \n",
    "        :param update_method: The update method to be used, either 'sgd_update' or 'mini_batch_update'\n",
    "        :param batch_size: Optional arguement to be given only in case of mini_batch_update\n",
    "        :return: A tuple of (log probability, accuracy)\n",
    "        \"\"\"\n",
    "        # TODO: Complete this function to compute the predicted value for an example based on the logistic value\n",
    "        # and return the log probability and the accuracy of those predictions"
   ]
  },
  {
   "cell_type": "code",
   "execution_count": 13,
   "metadata": {},
   "outputs": [
    {
     "name": "stderr",
     "output_type": "stream",
     "text": [
      "EEE\n",
      "======================================================================\n",
      "ERROR: test_sgd_update (__main__.LogRegTester)\n",
      "----------------------------------------------------------------------\n",
      "Traceback (most recent call last):\n",
      "  File \"<ipython-input-13-b2c56f801e50>\", line 15, in test_sgd_update\n",
      "    self.assertEqual(round(weights[0], 2), 0.16)\n",
      "TypeError: 'NoneType' object is not subscriptable\n",
      "\n",
      "======================================================================\n",
      "ERROR: tests_mini_batch_update (__main__.LogRegTester)\n",
      "----------------------------------------------------------------------\n",
      "Traceback (most recent call last):\n",
      "  File \"<ipython-input-13-b2c56f801e50>\", line 23, in tests_mini_batch_update\n",
      "    self.assertEqual(round(weights[0], 2), 0.17)\n",
      "TypeError: 'NoneType' object is not subscriptable\n",
      "\n",
      "======================================================================\n",
      "ERROR: tests_progress_sgd_update (__main__.LogRegTester)\n",
      "----------------------------------------------------------------------\n",
      "Traceback (most recent call last):\n",
      "  File \"<ipython-input-13-b2c56f801e50>\", line 31, in tests_progress_sgd_update\n",
      "    log_prob, accuracy = self.log_reg_classifier_1.progress(self.X[4:], self.y[4:], 'sgd_update')\n",
      "TypeError: 'NoneType' object is not iterable\n",
      "\n",
      "----------------------------------------------------------------------\n",
      "Ran 3 tests in 0.003s\n",
      "\n",
      "FAILED (errors=3)\n"
     ]
    },
    {
     "data": {
      "text/plain": [
       "<unittest.runner.TextTestResult run=3 errors=3 failures=0>"
      ]
     },
     "execution_count": 13,
     "metadata": {},
     "output_type": "execute_result"
    }
   ],
   "source": [
    "import unittest\n",
    "\n",
    "class LogRegTester(unittest.TestCase):\n",
    "    def setUp(self):\n",
    "        self.X = np.array([[0.1, 0.3 ], [0.4, 0.6], [0.8, 0.1], [0.8, 0.1], [0.5, 0.8]])\n",
    "        self.y = np.array([0,  0, 1, 1,  0])\n",
    "        self.log_reg_classifier_1 = LogReg(self.X, self.y, 0.5)\n",
    "        self.log_reg_classifier_2 = LogReg(self.X, self.y, 0.5)\n",
    "        \n",
    "    def test_sgd_update(self):\n",
    "        \"\"\"\n",
    "        Test sgd_update function from LogReg\n",
    "        \"\"\"\n",
    "        weights = self.log_reg_classifier_1.sgd_update()\n",
    "        self.assertEqual(round(weights[0], 2), 0.16)\n",
    "        self.assertEqual(round(weights[1], 2), -0.37)\n",
    "        \n",
    "    def tests_mini_batch_update(self):\n",
    "        \"\"\"\n",
    "        Test mini_batch_update function from LogReg\n",
    "        \"\"\"\n",
    "        weights = self.log_reg_classifier_2.mini_batch_update(2)\n",
    "        self.assertEqual(round(weights[0], 2), 0.17)\n",
    "        self.assertEqual(round(weights[1], 2), -0.37)\n",
    "        \n",
    "    def tests_progress_sgd_update(self):\n",
    "        \"\"\"\n",
    "        Test progress function from LogReg with method = 'sgd_update'\n",
    "        \"\"\"\n",
    "        self.log_reg_classifier_1 = LogReg(self.X[:4], self.y[:4], 0.5)\n",
    "        log_prob, accuracy = self.log_reg_classifier_1.progress(self.X[4:], self.y[4:], 'sgd_update')\n",
    "        self.assertEqual(round(log_prob, 2), -0.7)\n",
    "        self.assertEqual(accuracy, 0)\n",
    "        \n",
    "        \n",
    "        \n",
    "    \n",
    "    #BEGIN Workspace\n",
    "    #Add more test functions as required\n",
    "    #END Workspace\n",
    "    \n",
    "tests = LogRegTester()\n",
    "myTests = unittest.TestLoader().loadTestsFromModule(tests)\n",
    "unittest.TextTestRunner().run(myTests)"
   ]
  },
  {
   "cell_type": "markdown",
   "metadata": {},
   "source": [
    "##### [20 Points] Problem 2: Understanding the limits of the Logistic Regression Classifier\n",
    "\n",
    "2.1 - After completing the class above, loop over the training data and perform ___stochastic gradient descent___ for three different user-defined number of epochs 1, 3, 10], and five different values of eta range [.0001, .01, .1, .5, 1]. Train your model and do the following:\n",
    "\n",
    "* Using the `progress` method, calculate the accuracy on the training and the valid sets every 100 iterations. Plot them on same graph for every comparison.\n",
    "\n",
    "* Using `progress` method, calculate the accuracy on the validation set and store it for every epoch.\n",
    "\n",
    "Don't forget to shuffle your training data after each epoch."
   ]
  },
  {
   "cell_type": "code",
   "execution_count": null,
   "metadata": {},
   "outputs": [],
   "source": []
  },
  {
   "cell_type": "markdown",
   "metadata": {},
   "source": [
    "2.2 - After completing the class above, loop over the training data and perform ___mini batch gradient descent___ for three different user-defined number of epochs 1, 3, 10], and five different values of eta range [.0001, .01, .1, .5, 1]. Train your model and do the following:\n",
    "\n",
    "* Using the `progress` method, calculate the accuracy on the training and the valid sets every 100 iterations. Plot them on same graph for every comparison.\n",
    "\n",
    "* Using `progress` method, calculate the accuracy on the validation set and store it for every epoch.\n",
    "\n",
    "Don't forget to shuffle your training data after each epoch."
   ]
  },
  {
   "cell_type": "markdown",
   "metadata": {},
   "source": [
    "**Q:** Briefly describe the role of learning rate (eta) on the efficiency of convergence during training."
   ]
  },
  {
   "cell_type": "markdown",
   "metadata": {},
   "source": [
    "*Write your response here*"
   ]
  },
  {
   "cell_type": "markdown",
   "metadata": {},
   "source": [
    "**Q:** Briefly describe the role of the number of epochs on validation accuracy."
   ]
  },
  {
   "cell_type": "markdown",
   "metadata": {},
   "source": [
    "*Write your response here*"
   ]
  },
  {
   "cell_type": "markdown",
   "metadata": {},
   "source": [
    "### [ 30 points] Problem 4: Implementing the Logistic Regression Classifier for Multinomial Classification\n",
    "\n",
    "You will now create a classifier that is commonly referred to as Multinomial Logistic Regression. The particular method you will be implementing is **One Vs All** or **One Vs Rest**. The dataset will be the MNIST dataset which includes all digits 0-9. You are free to use the functions you created above as needed."
   ]
  },
  {
   "cell_type": "code",
   "execution_count": 14,
   "metadata": {},
   "outputs": [],
   "source": [
    "class Numbers2:\n",
    "    \"\"\"\n",
    "    Class to store MNIST data for images of 0-9\n",
    "    \"\"\" \n",
    "    def __init__(self, location):\n",
    "        # You shouldn't have to modify this class, but you can if you'd like\n",
    "        # Load the dataset\n",
    "        with gzip.open(location, 'rb') as f:\n",
    "            train_set, valid_set, test_set = pickle.load(f)\n",
    " \n",
    "        self.train_x, self.train_y = train_set\n",
    "        self.test_x, self.test_y = valid_set"
   ]
  },
  {
   "cell_type": "code",
   "execution_count": 15,
   "metadata": {},
   "outputs": [
    {
     "name": "stdout",
     "output_type": "stream",
     "text": [
      "[5 0 4 1 9 2 1 3 1 4]\n",
      "true label: 6\n"
     ]
    },
    {
     "data": {
      "image/png": "[encoded data removed]",
      "text/plain": [
       "<Figure size 432x288 with 1 Axes>"
      ]
     },
     "metadata": {},
     "output_type": "display_data"
    }
   ],
   "source": [
    "data2 = Numbers2('data/mnist.pklz')\n",
    "print(data2.train_y[:10])\n",
    "def view_digit(example, label=None):\n",
    "    if label is not None: print(\"true label: {:d}\".format(label))\n",
    "    plt.imshow(example.reshape(28,28), cmap='gray');\n",
    "view_digit(data2.train_x[18],data2.train_y[18])"
   ]
  },
  {
   "cell_type": "code",
   "execution_count": 16,
   "metadata": {},
   "outputs": [],
   "source": [
    "class MultiLogReg:\n",
    "    \"\"\"\n",
    "    Class to store MNIST data for images of 0-9\n",
    "    \"\"\" \n",
    "    def __init__(self, X, y, eta = 0.1):\n",
    "        self.X = self.normalize_data()\n",
    "        self.y = one_hot_encoding(self, y)\n",
    "        self.eta = eta\n",
    "        \n",
    "    def one_hot_encoding(self, y):\n",
    "        # TO DO: Represent the output vector y as a one hot encoding. Create a matrix of dimensions (m X 10) \n",
    "        # where m = number of examples, and 10 for number of classes\n",
    "        # if the class for the ith example is 7, then y[i][7] = 1 and the for k != 7, y[i][k] = 0.\n",
    "        pass\n",
    "        \n",
    "    def normalize_data(self, X):\n",
    "        # TO DO: Normalize the dataset X using the mean and standard deviation of all the training examples \n",
    "        pass\n",
    "        \n",
    "    def get_optimal_parameters():\n",
    "        # TO DO: This is the main training loop. You will have to find the optimal weights for all 10 models\n",
    "        # Each model is fit to its class which is (0-9), and the cost function will be against all of the other \n",
    "        # numbers, i.e. \"the rest\".\n",
    "        pass\n",
    "    \n",
    "    def predict(self, test_image, test_label):\n",
    "        # TO DO: This function should return the probabilities predicted by each of the models for some given \n",
    "        # input image. The probabilities are sorted with the most likely being listed first.\n",
    "        # Return a vector of shape (10, 2) with the first column holding the number and the second column with\n",
    "        # the probability that the test_image is that number\n",
    "        pass\n"
   ]
  },
  {
   "cell_type": "markdown",
   "metadata": {},
   "source": [
    "### QUESTION ###\n",
    "It is important to know how well your model did on the whole. You need to report the ___accuracy as a percentage___ on the training set and the test set from Numbers2. You should also plot a ___confusion matrix___ for both, just like you did on the last homework and mention the numbers that were misclassified the most"
   ]
  },
  {
   "cell_type": "code",
   "execution_count": 17,
   "metadata": {},
   "outputs": [],
   "source": [
    "# TO DO: COMPUTE ACCURACY ON THE TRAIN AND TEST DATA FROM NUMBERS2"
   ]
  },
  {
   "cell_type": "code",
   "execution_count": 6,
   "metadata": {},
   "outputs": [],
   "source": [
    "# TO DO: PLOT THE CONFUSION MATRIX ON TEST AND TRAIN DATA. "
   ]
  }
 ],
 "metadata": {
  "kernelspec": {
   "display_name": "Python 3",
   "language": "python",
   "name": "python3"
  },
  "language_info": {
   "codemirror_mode": {
    "name": "ipython",
    "version": 3
   },
   "file_extension": ".py",
   "mimetype": "text/x-python",
   "name": "python",
   "nbconvert_exporter": "python",
   "pygments_lexer": "ipython3",
   "version": "3.7.1"
  }
 },
 "nbformat": 4,
 "nbformat_minor": 2
}
