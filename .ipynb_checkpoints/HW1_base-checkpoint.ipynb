{
 "cells": [
  {
   "cell_type": "raw",
   "metadata": {},
   "source": [
    "# Homework 1 - KNN\n",
    "## CSCI 5622 - Spring 2019\n",
    "\n",
    "For today's assignment, we will be implementing our own K-Nearest Neighbors (KNN) algorithm.\n",
    "\n",
    "*But Professor Quigley, hasn't someone else already written KNN before?*\n",
    "\n",
    "Yes, you are not the first to implement KNN, or basically any algorithm we'll work with in this class. But 1) I'll know that you know what's really going on, and 2) you'll know you can do it, because 2a) someday you might have to implement some machine learning algorithm from scratch - maybe for a new platform (do you need to run python on your SmartToaster just to get it to learn how users like their toast?), maybe because you want to tweak the algorithm (there's always a better approach...), or maybe because you're working on something important and you need to control exactly what's on there (should you really be running anaconda on your secret spy plane?).\n",
    "\n",
    "That said - we're not going to implement *everything*. We'll start by importing a few helper functions"
   ]
  },
  {
   "cell_type": "code",
   "execution_count": 124,
   "metadata": {},
   "outputs": [],
   "source": [
    "import numpy as np\n",
    "import matplotlib.pyplot as plt\n",
    "import sklearn\n",
    "import sklearn.datasets"
   ]
  },
  {
   "cell_type": "markdown",
   "metadata": {},
   "source": [
    "*Wait a minute - didn't we just import Scikit-learn (sklearn)? The package with baked-in machine learning tools?*\n",
    "\n",
    "Yes - but it also has a ton of helper functions, including a dataset we'll be using later. But, for now, let's set up a KNNClassifier class."
   ]
  },
  {
   "cell_type": "code",
   "execution_count": 125,
   "metadata": {},
   "outputs": [],
   "source": [
    "from collections import Counter\n",
    "import sklearn.neighbors\n",
    "\n",
    "\n",
    "class KNNClassifier:\n",
    "\n",
    "    def __init__(self, X, y, k=5):\n",
    "        \"\"\"\n",
    "        Initialize our custom KNN classifier\n",
    "        PARAMETERS\n",
    "        X - our training data features\n",
    "        y - our training data answers\n",
    "        k - the number of nearest neighbors to consider for classification\n",
    "        \"\"\"\n",
    "        self._model = sklearn.neighbors.BallTree(X)\n",
    "        self._y = y\n",
    "        self._k = k\n",
    "        self._x = X\n",
    "        self._counts = self.getCounts()\n",
    "\n",
    "    def getCounts(self):\n",
    "        \"\"\"\n",
    "        Creates a dictionary storing the counts of each answer class found in y\n",
    "        RETURNS\n",
    "        counts - a dictionary of counts of answer classes\n",
    "        \"\"\"\n",
    "\n",
    "        # BEGIN Workspace 1.1\n",
    "        unique, count = np.unique(self._y, return_counts=True)\n",
    "        counts = dict(zip(unique, count))\n",
    "        # END Workspace 1.1\n",
    "        return counts\n",
    "\n",
    "    def majority(self, indices):\n",
    "        \"\"\"\n",
    "        Given indices, report the majority label of those points.\n",
    "        For a tie, report the most common label in the data set.\n",
    "        PARAMETERS\n",
    "        indices - an np.array, where each element is an index of a neighbor\n",
    "        RETURNS\n",
    "        label - the majority label of our neighbors\n",
    "        \"\"\"\n",
    "        count_neighbor = []\n",
    "        # BEGIN Workspace 1.2\n",
    "        for item in indices:\n",
    "            count_neighbor.append(self._y[item])\n",
    "        counter = Counter(count_neighbor)\n",
    "        most_common = [counter.most_common()[0][0]]\n",
    "        higher = counter.most_common()[0][1]\n",
    "        i = 0\n",
    "        for item in counter.most_common():\n",
    "            if counter.most_common()[i][1] == higher:\n",
    "                most_common.append(counter.most_common()[i][0])\n",
    "                i += 1\n",
    "            else:\n",
    "                break\n",
    "        total_counts = self.getCounts()\n",
    "        label = most_common[0]\n",
    "        highest = total_counts[most_common[0]]\n",
    "        j = 0\n",
    "        for item in most_common:\n",
    "            if total_counts[most_common[j]] > highest:\n",
    "                label = most_common[j]\n",
    "        # END Workspace 1.2\n",
    "        return label\n",
    "\n",
    "    def classify(self, given_point):\n",
    "        \"\"\"\n",
    "        Given a new data point, classify it according to the training data X and our number of neighbors k into the appropriate class in our training answers y\n",
    "        PARAMETERS\n",
    "        point - a feature vector of our test point\n",
    "        RETURNS\n",
    "        ans - our predicted classification\n",
    "        \"\"\"\n",
    "        # BEGIN Workspace 1.3\n",
    "        dimensions = len(given_point)\n",
    "        dist, ind = self._model.query(np.reshape(given_point, (-1, dimensions)), k=self._k)\n",
    "        ans = self.majority(ind[0])\n",
    "        # END Workspace 1.3\n",
    "        return ans\n",
    "\n",
    "    def confusionMatrix(self, testX, testY):\n",
    "        \"\"\"\n",
    "        Generate a confusion matrix for the given test set\n",
    "        PARAMETERS\n",
    "        testX - an np.array of feature vectors of test points\n",
    "        testY - the corresponding correct classifications of our test set\n",
    "        RETURN\n",
    "        C - an N*N np.array of counts, where N is the number of classes in our classifier\n",
    "        \"\"\"\n",
    "        C = np.zeros((len(self._counts), len(self._counts)), dtype=int)\n",
    "        # BEGIN Workspace 1.4\n",
    "        i = 0\n",
    "        class_number = {}\n",
    "        for key, value in self._counts.items():\n",
    "            class_number[key] = i\n",
    "            i += 1\n",
    "        i = 0\n",
    "        prediction_array = []\n",
    "        wrong_predictions = []\n",
    "        for x in testX:\n",
    "            prediction = self.classify(x)\n",
    "            prediction_array.append(prediction)\n",
    "            C[class_number[testY[i]]][class_number[prediction]] += 1\n",
    "            if class_number[testY[i]] != class_number[prediction]:\n",
    "                wrong_predictions.append(class_number[testY[i]])\n",
    "            i += 1\n",
    "        # END Workspace 1.4\n",
    "        return C, wrong_predictions\n",
    "\n",
    "    def accuracy(self, C):\n",
    "        \"\"\"\n",
    "        Generate an accuracy score for the classifier based on the confusion matrix\n",
    "        PARAMETERS\n",
    "        C - an np.array of counts\n",
    "        RETURN\n",
    "        score - an accuracy score\n",
    "        \"\"\"\n",
    "        score = np.sum(C.diagonal()) / C.sum()\n",
    "        return score"
   ]
  },
  {
   "cell_type": "markdown",
   "metadata": {},
   "source": [
    "*But professor, this code isn't complete!*\n",
    "\n",
    "### Problem 1: Complete our KNN Classifier - 40 Points (10 each)\n",
    "\n",
    "1.1 - Complete the getCounts function to return the count of each class found in the training set\n",
    "\n",
    "1.2 - Complete the majority function to determine the majority class of a series of neighbors\n",
    "\n",
    "1.3 - Complete the classify function to capture the predicted class of a new datapoint\n",
    "\n",
    " - HINT: Use the BallTree documentation to determine how to retrieve neighbors from the model (https://scikit-learn.org/stable/modules/generated/sklearn.neighbors.BallTree.html#sklearn.neighbors.BallTree)\n",
    "\n",
    "1.4 - Complete the confusionMatrix function to reveal the results of classification\n",
    "\n",
    "You can take a look at the unit tests below to see how we create data to input into our classifier, what kinds of things we expect as output, etc. You should also consider expanding the test cases to make sure your classifier is working correctly.\n"
   ]
  },
  {
   "cell_type": "code",
   "execution_count": 126,
   "metadata": {},
   "outputs": [
    {
     "name": "stderr",
     "output_type": "stream",
     "text": [
      "..\n",
      "----------------------------------------------------------------------\n",
      "Ran 2 tests in 0.004s\n",
      "\n",
      "OK\n"
     ]
    },
    {
     "data": {
      "text/plain": [
       "<unittest.runner.TextTestResult run=2 errors=0 failures=0>"
      ]
     },
     "execution_count": 126,
     "metadata": {},
     "output_type": "execute_result"
    }
   ],
   "source": [
    "import unittest\n",
    "\n",
    "class KNNTester(unittest.TestCase):\n",
    "    def setUp(self):\n",
    "        self.x = np.array([[3, 1], [2, 8], [2, 7], [5, 2], [3, 2], [8, 2], [2, 4]])\n",
    "        self.y = np.array([1, -1, -1, 1, -1, 1, -1])\n",
    "        self.knnfive = KNNClassifier(self.x, self.y)\n",
    "        self.knnthree = KNNClassifier(self.x, self.y, 3)\n",
    "        self.knnone = KNNClassifier(self.x, self.y, 1)\n",
    "\n",
    "        self.testPoints = np.array([[2, 1], [2, 6], [4, 4]])\n",
    "\n",
    "    def testCounter(self):\n",
    "        \"\"\"\n",
    "        Test getCounts function from knnclassifier\n",
    "        \"\"\"\n",
    "        self.assertEqual(self.knnfive._counts[1], 3)\n",
    "        self.assertEqual(self.knnfive._counts[-1], 4)\n",
    "\n",
    "    def testKNNOne(self):\n",
    "        \"\"\"\n",
    "        Test if the classifier returns \"correct\" (expected) classifications for k = 1\n",
    "        \"\"\"\n",
    "        self.assertEqual(self.knnone.classify(self.testPoints[0]), 1)\n",
    "        # BEGIN Workspace\n",
    "        # Add more tests as needed\n",
    "        # END Workspace\n",
    "\n",
    "    # BEGIN Workspace\n",
    "    # Add more test functions as requested\n",
    "    # HINT - You'll want to make sure your\n",
    "    # END Workspace\n",
    "\n",
    "\n",
    "tests = KNNTester()\n",
    "myTests = unittest.TestLoader().loadTestsFromModule(tests)\n",
    "tests.setUp()\n",
    "tests.testCounter()\n",
    "unittest.TextTestRunner().run(myTests)"
   ]
  },
  {
   "cell_type": "markdown",
   "metadata": {},
   "source": [
    "OK - now we've demonstrated that our KNN classifier works, let's think about our problem space! \n",
    "\n",
    "## Our Dataset - Identifying Digits from Images\n",
    "\n",
    "It's a pretty common problem - just imagine working at the post office, or at a bank, and you're handed a hand-written envelope, or check, or other piece of information and you have to identify exactly what it says. Did they pay 500 or 600 dollars? Is the letter going to 80309 (campus) or 30309 (Atlanta)?\n",
    "\n",
    "Let's be a little smart about this - let's up some classes and helper functions to help us out.\n",
    "\n",
    "### Problem 2: Implement KNN on Digits dataset - 30 Points\n",
    "\n",
    "2.1 Randomly divide our Digits dataset into training and testing sets (15 Points)\n",
    "\n",
    "2.2 Report the number of examples in training and testing, as well as measuring then number of pixels in each image (5 points)\n",
    "\n",
    "2.3 Create a confusion matrix of our classifier for K = 5 (10 points) *HINT: Doing this may cause you to catch mistakes in your classifier. Go fix those!*"
   ]
  },
  {
   "cell_type": "code",
   "execution_count": 127,
   "metadata": {},
   "outputs": [
    {
     "name": "stdout",
     "output_type": "stream",
     "text": [
      "Size of train set : 1437\n",
      "Size of each datapoint in X: 64\n",
      "Size of test set : 360\n",
      "\n",
      "Confusion matrix for K=5\n",
      "[[36  0  0  0  0  0  0  0  0  0]\n",
      " [ 0 38  0  0  0  0  0  0  0  0]\n",
      " [ 0  0 34  0  0  0  0  0  0  0]\n",
      " [ 0  0  0 31  0  0  0  1  0  0]\n",
      " [ 0  0  0  0 30  0  0  0  0  0]\n",
      " [ 0  0  0  0  0 35  0  0  0  0]\n",
      " [ 0  0  0  0  0  0 39  0  0  0]\n",
      " [ 0  0  0  0  0  0  0 43  0  0]\n",
      " [ 0  2  0  0  0  0  0  0 32  0]\n",
      " [ 0  1  0  0  0  1  0  0  0 37]]\n",
      "\n",
      "Accuracy with split 80/20 and K=5\n",
      "0.9861111111111112\n"
     ]
    }
   ],
   "source": [
    "from sklearn.utils import shuffle\n",
    "\n",
    "class Numbers:\n",
    "    def __init__(self):\n",
    "        # load data from sklearn\n",
    "        self.digits = sklearn.datasets.load_digits()\n",
    "        # BEGIN Workspace 2.1\n",
    "        self.split = 80 * len(self.digits.data) / 100\n",
    "        self.data = self.digits.data\n",
    "        self.target = self.digits.target\n",
    "        self.random_data, self.random_target = shuffle(self.data, self.target)\n",
    "        self.train_x = self.random_data[:int(self.split), :]  # A 2D np.array of training examples, REPLACE\n",
    "        self.train_y = self.random_target[:int(self.split)]  # A 1D np.array of training answers, REPLACE\n",
    "        self.test_x = self.random_data[int(self.split):, :]  # A 2D np.array of testing examples, REPLACE\n",
    "        self.test_y = self.random_target[int(self.split):]  # A 1D np.array of testing answers, REPLACE\n",
    "        # TODO: Divide our dataset into Train and Test datasets (80/20 split), replacing the variables above\n",
    "        # END Workspace 2.1\n",
    "\n",
    "    def report(self):\n",
    "        \"\"\"\n",
    "        Report information about the dataset using the print() function\n",
    "        \"\"\"\n",
    "        # BEGIN Workspace 2.2\n",
    "        print(f\"Size of train set : {len(self.train_x)}\")\n",
    "        print(f\"Size of each datapoint in X: {len(self.train_x[0])}\")\n",
    "        print(f\"Size of test set : {len(self.test_x)}\")\n",
    "        # END Workspace 2.2\n",
    "\n",
    "    def classify(self, k_value):\n",
    "        \"\"\"\n",
    "        Create a classifier using the training data and generate a confusion matrix for the test data\n",
    "        \"\"\"\n",
    "        # BEGIN Workspace 2.3\n",
    "        # TODO: Create classifier from training data, generate confusion matrix for test data\n",
    "        model = KNNClassifier(self.train_x, self.train_y, k_value)\n",
    "        conf_mat, incorrect_predictions = model.confusionMatrix(self.test_x, self.test_y)\n",
    "        unique, count = np.unique(self.test_y, return_counts=True)\n",
    "        counts = dict(zip(unique, count))\n",
    "        return conf_mat, model.accuracy(conf_mat), incorrect_predictions\n",
    "        # END Workspace 2.3\n",
    "\n",
    "    def viewDigit(self, digitImage):\n",
    "        \"\"\"\n",
    "        Display an image of a digit\n",
    "        PARAMETERS\n",
    "        digitImage - a data object from the dataset\n",
    "        \"\"\"\n",
    "        plt.gray()\n",
    "        plt.matshow(self.digits.images[digitImage])\n",
    "        plt.show()\n",
    "\n",
    "        \n",
    "num = Numbers()\n",
    "num.report()\n",
    "matrix, accuracy, incorrect = num.classify(5)\n",
    "print(\"\\nConfusion matrix for K=5\")\n",
    "print(matrix)\n",
    "print(\"\\nAccuracy with split 80/20 and K=5\")\n",
    "print(accuracy)"
   ]
  },
  {
   "cell_type": "markdown",
   "metadata": {},
   "source": [
    "*Wow, I can't believe we just created a KNN Classifier - but can't we make it better?*\n",
    "\n",
    "Yes, we saw above that our classifier didn't work perfectly. Let's explore that issue a little further\n",
    "\n",
    "### Problem 3: Improving KNN on Digits - 30 Points\n",
    "\n",
    "3.1 Determine which classes are most often confused (from our confusion matrix above), inspect some examples of these digits (using the viewDigit function in our Numbers class), and write a brief (4 - 5 sentences) description of why you think these particular numbers may be misclassified.\n",
    "<br><font color='red'>I observed that numbers 9, 8 and 3 are most confused for one another. I think the most important reason for this could be insufficient pixel density. The appearance of these numbers are very close and if an image misses the detail of the important pixels to differentiate them, they might get misclassified.  </font> \n",
    "\n",
    "3.2 Explore the influence of the number of nearest neighbors (i.e. try changing our K). Plot the relationship between K and accuracy, and write a brief (4 - 5 sentences) description of how this factor impacts our accuracy.\n",
    "<br><font color='red'>KNN classification gives best results for small values of K, between 2 and 5. We could observe from the graph that accuracy decreases for larger values of K. This is because for large values of K results in smooting and it might under-fit the data which results in increase in wrong predictions.</font>\n",
    "\n",
    "3.3 (Bonus) Explore the influence of the train / test split of our data (i.e. copy our Numbers class into Numbers2 below and try changing the split for our dataset). Plot the relationship between the split % and accuracy, and write a brief (4 - 5 sentences) description of its impact.\n",
    "<br><font color='red'>Obseving split % vs accuracy plots over a number of times I observed that with higher split percentage there are more chances of getting better accuracy. This is because we have more data. Hence when we have to classify a point we will have more points that are closer and belong to same class. However, I observed that a few times even with a split of 50/50 we get good result. But, this is less frequent and hence it is better to have a good amount of train data.</font>"
   ]
  },
  {
   "cell_type": "code",
   "execution_count": 128,
   "metadata": {},
   "outputs": [
    {
     "data": {
      "text/plain": [
       "<Figure size 432x288 with 0 Axes>"
      ]
     },
     "metadata": {},
     "output_type": "display_data"
    },
    {
     "data": {
      "image/png": "[encoded data removed]",
      "text/plain": [
       "<Figure size 288x288 with 1 Axes>"
      ]
     },
     "metadata": {
      "needs_background": "light"
     },
     "output_type": "display_data"
    },
    {
     "data": {
      "text/plain": [
       "<Figure size 432x288 with 0 Axes>"
      ]
     },
     "metadata": {},
     "output_type": "display_data"
    },
    {
     "data": {
      "image/png": "[encoded data removed]",
      "text/plain": [
       "<Figure size 288x288 with 1 Axes>"
      ]
     },
     "metadata": {
      "needs_background": "light"
     },
     "output_type": "display_data"
    },
    {
     "data": {
      "text/plain": [
       "<Figure size 432x288 with 0 Axes>"
      ]
     },
     "metadata": {},
     "output_type": "display_data"
    },
    {
     "data": {
      "image/png": "[encoded data removed]",
      "text/plain": [
       "<Figure size 288x288 with 1 Axes>"
      ]
     },
     "metadata": {
      "needs_background": "light"
     },
     "output_type": "display_data"
    },
    {
     "data": {
      "text/plain": [
       "<Figure size 432x288 with 0 Axes>"
      ]
     },
     "metadata": {},
     "output_type": "display_data"
    },
    {
     "data": {
      "image/png": "[encoded data removed]",
      "text/plain": [
       "<Figure size 288x288 with 1 Axes>"
      ]
     },
     "metadata": {
      "needs_background": "light"
     },
     "output_type": "display_data"
    },
    {
     "data": {
      "text/plain": [
       "<Figure size 432x288 with 0 Axes>"
      ]
     },
     "metadata": {},
     "output_type": "display_data"
    },
    {
     "data": {
      "image/png": "[encoded data removed]",
      "text/plain": [
       "<Figure size 288x288 with 1 Axes>"
      ]
     },
     "metadata": {
      "needs_background": "light"
     },
     "output_type": "display_data"
    }
   ],
   "source": [
    "#BEGIN 3.1a\n",
    "for item in incorrect:\n",
    "    num.viewDigit(item)\n",
    "#END 3.1a"
   ]
  },
  {
   "cell_type": "markdown",
   "metadata": {},
   "source": [
    "#### 3.1b\n",
    "TODO: Write description of misclassification"
   ]
  },
  {
   "cell_type": "code",
   "execution_count": 129,
   "metadata": {},
   "outputs": [
    {
     "data": {
      "image/png": "[encoded data removed]",
      "text/plain": [
       "<Figure size 432x288 with 1 Axes>"
      ]
     },
     "metadata": {
      "needs_background": "light"
     },
     "output_type": "display_data"
    },
    {
     "name": "stdout",
     "output_type": "stream",
     "text": [
      "Percent split: 50\n",
      "Size of train set : 898\n",
      "Size of each datapoint in X: 64\n",
      "Size of test set : 899\n",
      "Percent split: 55\n",
      "Size of train set : 988\n",
      "Size of each datapoint in X: 64\n",
      "Size of test set : 809\n",
      "Percent split: 60\n",
      "Size of train set : 1078\n",
      "Size of each datapoint in X: 64\n",
      "Size of test set : 719\n",
      "Percent split: 65\n",
      "Size of train set : 1168\n",
      "Size of each datapoint in X: 64\n",
      "Size of test set : 629\n",
      "Percent split: 70\n",
      "Size of train set : 1257\n",
      "Size of each datapoint in X: 64\n",
      "Size of test set : 540\n",
      "Percent split: 75\n",
      "Size of train set : 1347\n",
      "Size of each datapoint in X: 64\n",
      "Size of test set : 450\n",
      "Percent split: 80\n",
      "Size of train set : 1437\n",
      "Size of each datapoint in X: 64\n",
      "Size of test set : 360\n"
     ]
    },
    {
     "data": {
      "image/png": "[encoded data removed]",
      "text/plain": [
       "<Figure size 432x288 with 1 Axes>"
      ]
     },
     "metadata": {
      "needs_background": "light"
     },
     "output_type": "display_data"
    }
   ],
   "source": [
    "class Numbers2:\n",
    "    def __init__(self, trainPercentage):\n",
    "        # load data from sklearn\n",
    "        self.digits = sklearn.datasets.load_digits()\n",
    "        # BEGIN Workspace 2.1\n",
    "        self.split = trainPercentage * len(self.digits.data) / 100\n",
    "        self.data = self.digits.data\n",
    "        self.target = self.digits.target\n",
    "        self.random_data, self.random_target = shuffle(self.data, self.target)\n",
    "        self.train_x = self.random_data[:int(self.split), :]  # A 2D np.array of training examples, REPLACE\n",
    "        self.train_y = self.random_target[:int(self.split)]  # A 1D np.array of training answers, REPLACE\n",
    "        self.test_x = self.random_data[int(self.split):, :]  # A 2D np.array of testing examples, REPLACE\n",
    "        self.test_y = self.random_target[int(self.split):]  # A 1D np.array of testing answers, REPLACE\n",
    "        # TODO: Divide our dataset into Train and Test datasets (80/20 split), replacing the variables above\n",
    "        # END Workspace 2.1\n",
    "\n",
    "    def report(self):\n",
    "        \"\"\"\n",
    "        Report information about the dataset using the print() function\n",
    "        \"\"\"\n",
    "        # BEGIN Workspace 2.2\n",
    "        print(f\"Size of train set : {len(self.train_x)}\")\n",
    "        print(f\"Size of each datapoint in X: {len(self.train_x[0])}\")\n",
    "        print(f\"Size of test set : {len(self.test_x)}\")\n",
    "        # END Workspace 2.2\n",
    "\n",
    "    def classify(self, k_value):\n",
    "        \"\"\"\n",
    "        Create a classifier using the training data and generate a confusion matrix for the test data\n",
    "        \"\"\"\n",
    "        # BEGIN Workspace 2.3\n",
    "        # TODO: Create classifier from training data, generate confusion matrix for test data\n",
    "        model = KNNClassifier(self.train_x, self.train_y, k_value)\n",
    "        conf_mat, incorrect_predictions = model.confusionMatrix(self.test_x, self.test_y)\n",
    "        unique, count = np.unique(self.test_y, return_counts=True)\n",
    "        counts = dict(zip(unique, count))\n",
    "        return conf_mat, model.accuracy(conf_mat), incorrect_predictions\n",
    "        # END Workspace 2.3\n",
    "\n",
    "    def viewDigit(self, digitImage):\n",
    "        \"\"\"\n",
    "        Display an image of a digit\n",
    "        PARAMETERS\n",
    "        digitImage - a data object from the dataset\n",
    "        \"\"\"\n",
    "        plt.gray()\n",
    "        plt.matshow(self.digits.images[digitImage])\n",
    "        plt.show()\n",
    "        \n",
    "        \n",
    "k = list(range(1, 20))\n",
    "accuracy_list = []\n",
    "for each_k in k:\n",
    "    cnf_mtrx, acc, wrng_prd = num.classify(each_k)\n",
    "    accuracy_list.append(acc)\n",
    "plt.plot(k, accuracy_list)\n",
    "plt.xlabel(\"Value of K\")\n",
    "plt.ylabel(\"Accuracy of prediction\")\n",
    "plt.title(\"K vs.,Accuracy graph\")\n",
    "plt.show()\n",
    "\n",
    "k = 5\n",
    "accuracy_list = []\n",
    "percent = np.arange(50, 85, 5)\n",
    "for prcnt in percent:\n",
    "    num = Numbers2(prcnt)\n",
    "    print(f\"Percent split: {prcnt}\")\n",
    "    num.report()\n",
    "    cnf_mtrx, acc, wr_pred = num.classify(k)\n",
    "    accuracy_list.append(acc)\n",
    "plt.plot(percent, accuracy_list)\n",
    "plt.xlabel(\"Percentage split\")\n",
    "plt.ylabel(\"Accuracy of prediction\")\n",
    "plt.title(\"Percentage split vs.,Accuracy graph\")\n",
    "plt.show()"
   ]
  },
  {
   "cell_type": "markdown",
   "metadata": {},
   "source": [
    "#### 3.2b\n",
    "TODO: Write description of influence of neighbor count\n",
    "\n",
    "#### 3.3b\n",
    "TODO: Write description of influence of training / testing split"
   ]
  }
 ],
 "metadata": {
  "kernelspec": {
   "display_name": "Python 3",
   "language": "python",
   "name": "python3"
  },
  "language_info": {
   "codemirror_mode": {
    "name": "ipython",
    "version": 3
   },
   "file_extension": ".py",
   "mimetype": "text/x-python",
   "name": "python",
   "nbconvert_exporter": "python",
   "pygments_lexer": "ipython3",
   "version": "3.7.1"
  }
 },
 "nbformat": 4,
 "nbformat_minor": 2
}
